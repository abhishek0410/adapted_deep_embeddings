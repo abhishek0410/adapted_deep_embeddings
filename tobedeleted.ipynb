{
 "cells": [
  {
   "cell_type": "code",
   "execution_count": null,
   "metadata": {},
   "outputs": [],
   "source": [
    "\n",
    "with open(\"/home/abhishek/Desktop/ANU/comp_6470/abc\", \"a+\") as f:\n",
    "    print(\"SOURCE -TRAINING BEGINS\",file =f)"
   ]
  },
  {
   "cell_type": "code",
   "execution_count": null,
   "metadata": {},
   "outputs": [],
   "source": [
    "with open(\"/home/abhishek/Desktop/ANU/comp_6470/abc\", \"r+\") as f1:\n",
    "    with open(\"/home/abhishek/Desktop/ANU/comp_6470/abc1\", \"r+\") as f:\n",
    "#         print(\"For loop is executed\")\n",
    "  #  with open(folder_to_output_file_to+\"/{}_{}_{}_{}_{}.txt\".format(params[\"dataset\"],params[\"k\"],params[\"n\"],temp_learning_rate_target_training,decay_after_epoch), \"w\") as f:\n",
    "        for x in f1.readlines():\n",
    "            print(\"For loop is executed\",file =f)\n",
    "            f.write(x)\n",
    "            "
   ]
  },
  {
   "cell_type": "code",
   "execution_count": 1,
   "metadata": {},
   "outputs": [],
   "source": [
    "import os\n",
    "if (os.path.exists(\"/home/abhishek/Desktop/V2_MNIST_SOURCE_TRAINING.txt\")):\n",
    "    print(\"Source has already been trained\")\n",
    "else:\n",
    "\n",
    "    with open(\"/home/abhishek/Desktop/V2_MNIST_SOURCE_TRAINING.txt\", \"a\") as f:\n",
    "        print(\"SOURCE -TRAINING BEGINS\",file =f)"
   ]
  },
  {
   "cell_type": "code",
   "execution_count": 2,
   "metadata": {},
   "outputs": [],
   "source": [
    "with open(\"/home/abhishek/Desktop/V2_MNIST_SOURCE_TRAINING.txt\", \"r+\") as f1:\n",
    "    with open(\"/home/abhishek/Desktop/abc1\", \"a\") as f:\n",
    "#         print(\"For loop is executed\")\n",
    "  #  with open(folder_to_output_file_to+\"/{}_{}_{}_{}_{}.txt\".format(params[\"dataset\"],params[\"k\"],params[\"n\"],temp_learning_rate_target_training,decay_after_epoch), \"w\") as f:\n",
    "        for x in f1.readlines():\n",
    "#             print(\"For loop is executed\",file =f)\n",
    "            f.write(x)\n",
    "            "
   ]
  },
  {
   "cell_type": "code",
   "execution_count": 4,
   "metadata": {},
   "outputs": [
    {
     "name": "stdout",
     "output_type": "stream",
     "text": [
      "Source has already been trained\n",
      "There is a wat \n"
     ]
    }
   ],
   "source": [
    "if (os.path.exists(\"/home/abhishek/Desktop/V2_MNIST_SOURCE_TRAINING.txt\")):\n",
    "    print(\"Source has already been trained\")\n",
    "else:\n",
    "#     with open(\"/home/abhishek/Desktop/V2_MNIST_SOURCE_TRAINING.txt\", \"a\") as f:\n",
    "#         print(\"SOURCE -TRAINING BEGINS\",file =f)\n",
    "    print(\"How are you doing\")\n",
    "print(\"There is a wat \")\n",
    "      "
   ]
  },
  {
   "cell_type": "code",
   "execution_count": null,
   "metadata": {},
   "outputs": [],
   "source": []
  }
 ],
 "metadata": {
  "kernelspec": {
   "display_name": "Python 3",
   "language": "python",
   "name": "python3"
  },
  "language_info": {
   "codemirror_mode": {
    "name": "ipython",
    "version": 3
   },
   "file_extension": ".py",
   "mimetype": "text/x-python",
   "name": "python",
   "nbconvert_exporter": "python",
   "pygments_lexer": "ipython3",
   "version": "3.7.1"
  }
 },
 "nbformat": 4,
 "nbformat_minor": 2
}
