{
 "cells": [
  {
   "cell_type": "code",
   "execution_count": null,
   "metadata": {},
   "outputs": [],
   "source": [
    " def prediction(self):\n",
    "        d = self.get_single_device()\n",
    "        with tf.device(assign_to_device(d, self.config.controller)):\n",
    "            x = self.input\n",
    "            x = tf.reshape(x, [-1, 28, 28, 1])\n",
    "            x = _relu(_conv('conv1', x, 3, x.get_shape()[-1], 32, 1))\n",
    "            x = _max_pooling('pool2', _relu(_conv('conv2', x, 3, x.get_shape()[-1], 32, 1)), 2, 2)\n",
    "            x = tf.contrib.layers.flatten(x)\n",
    "            self.x = _relu(_fully_connected('fc1', x, 128))\n",
    "            x1 = lambda: _fully_connected('fc3', x, self.config.n)\n",
    "            x2 = lambda: _fully_connected('fc4', x, self.config.n)\n",
    "            x = tf.cond(tf.equal(self.is_task1, tf.constant(True)), x1, x2)\n",
    "            return x\n"
   ]
  },
  {
   "cell_type": "code",
   "execution_count": null,
   "metadata": {},
   "outputs": [],
   "source": [
    "def optimize(self):\n",
    "#         pass\n",
    "        d = self.get_single_device()\n",
    "        with tf.device(assign_to_device(d, self.config.controller)):\n",
    "           \n",
    "            pred = self.prediction\n",
    "            cost = tf.reduce_mean(tf.nn.softmax_cross_entropy_with_logits_v2(logits=pred, \n",
    "                labels=tf.one_hot(self.target, self.config.n)))\n",
    "            if self.freeze:\n",
    "                optimizer = tf.train.AdamOptimizer(learning_rate=self.learning_rate,var_list=[self.x] )\n",
    "            else:\n",
    "                optimizer = tf.train.AdamOptimizer(learning_rate=self.learning_rate)\n",
    "                  \n",
    "\n",
    "            update_ops = tf.get_collection(tf.GraphKeys.UPDATE_OPS)\n",
    "            with tf.control_dependencies(update_ops):\n",
    "                train_op = optimizer.minimize(cost)\n",
    "            pdb.set_trace()\n",
    "            return train_op, cost\n"
   ]
  },
  {
   "cell_type": "code",
   "execution_count": 6,
   "metadata": {},
   "outputs": [],
   "source": [
    "a=[2,3]"
   ]
  },
  {
   "cell_type": "code",
   "execution_count": 7,
   "metadata": {},
   "outputs": [],
   "source": [
    "b=[4,5]"
   ]
  },
  {
   "cell_type": "code",
   "execution_count": 8,
   "metadata": {},
   "outputs": [],
   "source": [
    "c=[a,b]"
   ]
  },
  {
   "cell_type": "code",
   "execution_count": 9,
   "metadata": {},
   "outputs": [
    {
     "name": "stdout",
     "output_type": "stream",
     "text": [
      "[[2, 3], [4, 5]]\n"
     ]
    }
   ],
   "source": [
    "print(c)"
   ]
  },
  {
   "cell_type": "code",
   "execution_count": null,
   "metadata": {},
   "outputs": [],
   "source": [
    " ##Below command will freeze both the weight and biases for the convolution layers\n",
    "            freeze_conv1  =tf.get_collection(tf.GraphKeys.TRAINABLE_VARIABLES,\"prediction/conv1\")\n",
    "            freeze_conv2  =tf.get_collection(tf.GraphKeys.TRAINABLE_VARIABLES,\"prediction/conv2\")"
   ]
  }
 ],
 "metadata": {
  "kernelspec": {
   "display_name": "Python 3",
   "language": "python",
   "name": "python3"
  },
  "language_info": {
   "codemirror_mode": {
    "name": "ipython",
    "version": 3
   },
   "file_extension": ".py",
   "mimetype": "text/x-python",
   "name": "python",
   "nbconvert_exporter": "python",
   "pygments_lexer": "ipython3",
   "version": "3.7.1"
  }
 },
 "nbformat": 4,
 "nbformat_minor": 2
}
